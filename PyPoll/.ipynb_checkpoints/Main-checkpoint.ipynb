{
 "cells": [
  {
   "cell_type": "code",
   "execution_count": 2,
   "metadata": {},
   "outputs": [],
   "source": [
    "import os\n",
    "import pandas as pd\n",
    "\n",
    "#  Set directory to current file location\n",
    "\n",
    "# os.chdir(os.path.dirname(__file__)) \n",
    "\n",
    "#  Read file in the Resources directory\n",
    "\n",
    "csv_path = \"Resources/election_data.csv\"\n",
    "\n",
    "#  Read csv file into data frame\n",
    "\n",
    "df_election_data = pd.read_csv(csv_path, encoding=\"utf-8\")\n",
    "\n",
    "#  Read Total Votes\n",
    "\n",
    "total_votes = df_election_data[\"Voter ID\"].count()\n",
    "\n"
   ]
  },
  {
   "cell_type": "code",
   "execution_count": 5,
   "metadata": {},
   "outputs": [
    {
     "data": {
      "text/html": [
       "<div>\n",
       "<style scoped>\n",
       "    .dataframe tbody tr th:only-of-type {\n",
       "        vertical-align: middle;\n",
       "    }\n",
       "\n",
       "    .dataframe tbody tr th {\n",
       "        vertical-align: top;\n",
       "    }\n",
       "\n",
       "    .dataframe thead th {\n",
       "        text-align: right;\n",
       "    }\n",
       "</style>\n",
       "<table border=\"1\" class=\"dataframe\">\n",
       "  <thead>\n",
       "    <tr style=\"text-align: right;\">\n",
       "      <th></th>\n",
       "      <th>Candidate</th>\n",
       "      <th>Number of Votes</th>\n",
       "      <th>Percent of Votes</th>\n",
       "    </tr>\n",
       "  </thead>\n",
       "  <tbody>\n",
       "    <tr>\n",
       "      <th>0</th>\n",
       "      <td>Khan</td>\n",
       "      <td>2218231</td>\n",
       "      <td>63.0</td>\n",
       "    </tr>\n",
       "    <tr>\n",
       "      <th>1</th>\n",
       "      <td>Correy</td>\n",
       "      <td>704200</td>\n",
       "      <td>20.0</td>\n",
       "    </tr>\n",
       "    <tr>\n",
       "      <th>2</th>\n",
       "      <td>Li</td>\n",
       "      <td>492940</td>\n",
       "      <td>14.0</td>\n",
       "    </tr>\n",
       "    <tr>\n",
       "      <th>3</th>\n",
       "      <td>O'Tooley</td>\n",
       "      <td>105630</td>\n",
       "      <td>3.0</td>\n",
       "    </tr>\n",
       "  </tbody>\n",
       "</table>\n",
       "</div>"
      ],
      "text/plain": [
       "  Candidate  Number of Votes  Percent of Votes\n",
       "0      Khan          2218231              63.0\n",
       "1    Correy           704200              20.0\n",
       "2        Li           492940              14.0\n",
       "3  O'Tooley           105630               3.0"
      ]
     },
     "execution_count": 5,
     "metadata": {},
     "output_type": "execute_result"
    }
   ],
   "source": [
    "#  Put summary data into summary data frame\n",
    "\n",
    "summary_table = df_election_data.groupby([\"Candidate\"],as_index=False)[\"Voter ID\"].count().sort_values([\"Voter ID\"], ascending=False)\n",
    "\n",
    "summary_table.rename(columns={\"Voter ID\":\"Number of Votes\"}, inplace=True)\n",
    "\n",
    "#  Calculate the percent of votes\n",
    "\n",
    "percent_votes = summary_table[\"Number of Votes\"]/total_votes*100\n",
    "\n",
    "#  Add column with percent of votes\n",
    "\n",
    "summary_table[\"Percent of Votes\"] = percent_votes\n",
    "\n",
    "\n",
    "\n",
    "summary_table[\"Percent of Votes\"] = summary_table[\"Percent of Votes\"].round(3)\n",
    "\n",
    "vote_summary_table = summary_table.reset_index(drop=True)\n",
    "\n",
    "vote_summary_table.head()\n"
   ]
  },
  {
   "cell_type": "code",
   "execution_count": 6,
   "metadata": {},
   "outputs": [],
   "source": [
    "# Export Results to file\n",
    "\n",
    "csv_path = \"Output/election_summary.csv\"\n",
    "\n",
    "vote_summary_table.to_csv(csv_path, encoding=\"utf-8\", index=False)\n"
   ]
  },
  {
   "cell_type": "code",
   "execution_count": 7,
   "metadata": {},
   "outputs": [
    {
     "name": "stdout",
     "output_type": "stream",
     "text": [
      "Election Results\n",
      "-------------------------\n",
      "Total Votes: 3521001\n",
      "-------------------------\n",
      "   Khan:  63.000%  (2218231)\n",
      "  Correy:  20.000%  (704200)\n",
      "      Li:  14.000%  (492940)\n",
      " O'Tooley:  3.000%  (105630)\n",
      "-------------------------\n",
      "Winner:  Khan\n"
     ]
    }
   ],
   "source": [
    "#\n",
    "\n",
    "summary_output = vote_summary_table[\"Candidate\"] + \":  \" + vote_summary_table[\"Percent of Votes\"].map(str) + \"00%  (\" + vote_summary_table[\"Number of Votes\"].map(str) + \")\"    \n",
    "\n",
    "# Print output\n",
    "\n",
    "print(\"Election Results\")\n",
    "print(\"-------------------------\")\n",
    "print(f\"Total Votes: {total_votes}\")\n",
    "print(\"-------------------------\")\n",
    "print(summary_output.to_string(header=False,index=False))\n",
    "print(\"-------------------------\")\n",
    "print(\"Winner:  \" + summary_table[\"Candidate\"].head(1).item())\n"
   ]
  },
  {
   "cell_type": "code",
   "execution_count": null,
   "metadata": {},
   "outputs": [],
   "source": []
  }
 ],
 "metadata": {
  "kernelspec": {
   "display_name": "Python 3",
   "language": "python",
   "name": "python3"
  },
  "language_info": {
   "codemirror_mode": {
    "name": "ipython",
    "version": 3
   },
   "file_extension": ".py",
   "mimetype": "text/x-python",
   "name": "python",
   "nbconvert_exporter": "python",
   "pygments_lexer": "ipython3",
   "version": "3.7.3"
  }
 },
 "nbformat": 4,
 "nbformat_minor": 2
}
